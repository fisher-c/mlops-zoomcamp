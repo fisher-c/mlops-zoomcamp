{
 "cells": [
  {
   "cell_type": "markdown",
   "id": "85b9fa0b",
   "metadata": {},
   "source": [
    "## Homework\n",
    "\n",
    "The goal of this homework is to train a simple model for predicting the duration of a ride - similar to what we did in this module.\n"
   ]
  },
  {
   "cell_type": "code",
   "execution_count": 1,
   "id": "da171e89",
   "metadata": {},
   "outputs": [],
   "source": [
    "import pandas as pd\n",
    "import sklearn\n",
    "import numpy as np\n",
    "\n",
    "from sklearn.feature_extraction import DictVectorizer\n",
    "from sklearn.linear_model import LinearRegression\n",
    "from sklearn.linear_model import Lasso\n",
    "from sklearn.linear_model import Ridge\n",
    "\n",
    "from sklearn.metrics import mean_squared_error"
   ]
  },
  {
   "cell_type": "markdown",
   "id": "788e038e",
   "metadata": {},
   "source": [
    "## Q1. Downloading the data\n",
    "\n",
    "We'll use [the same NYC taxi dataset](https://www1.nyc.gov/site/tlc/about/tlc-trip-record-data.page),\n",
    "but instead of \"**Green** Taxi Trip Records\", we'll use \"**Yellow** Taxi Trip Records\".\n",
    "\n",
    "Download the data for January and February 2023.\n",
    "\n",
    "Read the data for January. How many columns are there?\n",
    "\n",
    "* 16\n",
    "* 17\n",
    "* 18\n",
    "* 19 <-- correct\n"
   ]
  },
  {
   "cell_type": "code",
   "execution_count": null,
   "id": "d21ed823",
   "metadata": {},
   "outputs": [],
   "source": [
    "jan = pd.read_parquet('https://d37ci6vzurychx.cloudfront.net/trip-data/yellow_tripdata_2023-01.parquet ')\n",
    "# feb = pd.read_parquet('https://d37ci6vzurychx.cloudfront.net/trip-data/yellow_tripdata_2023-02.parquet ')"
   ]
  },
  {
   "cell_type": "code",
   "execution_count": 3,
   "id": "f6f662c9",
   "metadata": {},
   "outputs": [
    {
     "data": {
      "text/plain": [
       "19"
      ]
     },
     "execution_count": 3,
     "metadata": {},
     "output_type": "execute_result"
    }
   ],
   "source": [
    "# count number of columns in jan\n",
    "len(jan.columns)"
   ]
  },
  {
   "cell_type": "code",
   "execution_count": 5,
   "id": "febcd0c2",
   "metadata": {},
   "outputs": [
    {
     "data": {
      "text/html": [
       "<div>\n",
       "<style scoped>\n",
       "    .dataframe tbody tr th:only-of-type {\n",
       "        vertical-align: middle;\n",
       "    }\n",
       "\n",
       "    .dataframe tbody tr th {\n",
       "        vertical-align: top;\n",
       "    }\n",
       "\n",
       "    .dataframe thead th {\n",
       "        text-align: right;\n",
       "    }\n",
       "</style>\n",
       "<table border=\"1\" class=\"dataframe\">\n",
       "  <thead>\n",
       "    <tr style=\"text-align: right;\">\n",
       "      <th></th>\n",
       "      <th>VendorID</th>\n",
       "      <th>tpep_pickup_datetime</th>\n",
       "      <th>tpep_dropoff_datetime</th>\n",
       "      <th>passenger_count</th>\n",
       "      <th>trip_distance</th>\n",
       "      <th>RatecodeID</th>\n",
       "      <th>store_and_fwd_flag</th>\n",
       "      <th>PULocationID</th>\n",
       "      <th>DOLocationID</th>\n",
       "      <th>payment_type</th>\n",
       "      <th>fare_amount</th>\n",
       "      <th>extra</th>\n",
       "      <th>mta_tax</th>\n",
       "      <th>tip_amount</th>\n",
       "      <th>tolls_amount</th>\n",
       "      <th>improvement_surcharge</th>\n",
       "      <th>total_amount</th>\n",
       "      <th>congestion_surcharge</th>\n",
       "      <th>airport_fee</th>\n",
       "    </tr>\n",
       "  </thead>\n",
       "  <tbody>\n",
       "    <tr>\n",
       "      <th>0</th>\n",
       "      <td>2</td>\n",
       "      <td>2023-01-01 00:32:10</td>\n",
       "      <td>2023-01-01 00:40:36</td>\n",
       "      <td>1.0</td>\n",
       "      <td>0.97</td>\n",
       "      <td>1.0</td>\n",
       "      <td>N</td>\n",
       "      <td>161</td>\n",
       "      <td>141</td>\n",
       "      <td>2</td>\n",
       "      <td>9.3</td>\n",
       "      <td>1.0</td>\n",
       "      <td>0.5</td>\n",
       "      <td>0.0</td>\n",
       "      <td>0.0</td>\n",
       "      <td>1.0</td>\n",
       "      <td>14.3</td>\n",
       "      <td>2.5</td>\n",
       "      <td>0.0</td>\n",
       "    </tr>\n",
       "    <tr>\n",
       "      <th>1</th>\n",
       "      <td>2</td>\n",
       "      <td>2023-01-01 00:55:08</td>\n",
       "      <td>2023-01-01 01:01:27</td>\n",
       "      <td>1.0</td>\n",
       "      <td>1.10</td>\n",
       "      <td>1.0</td>\n",
       "      <td>N</td>\n",
       "      <td>43</td>\n",
       "      <td>237</td>\n",
       "      <td>1</td>\n",
       "      <td>7.9</td>\n",
       "      <td>1.0</td>\n",
       "      <td>0.5</td>\n",
       "      <td>4.0</td>\n",
       "      <td>0.0</td>\n",
       "      <td>1.0</td>\n",
       "      <td>16.9</td>\n",
       "      <td>2.5</td>\n",
       "      <td>0.0</td>\n",
       "    </tr>\n",
       "    <tr>\n",
       "      <th>2</th>\n",
       "      <td>2</td>\n",
       "      <td>2023-01-01 00:25:04</td>\n",
       "      <td>2023-01-01 00:37:49</td>\n",
       "      <td>1.0</td>\n",
       "      <td>2.51</td>\n",
       "      <td>1.0</td>\n",
       "      <td>N</td>\n",
       "      <td>48</td>\n",
       "      <td>238</td>\n",
       "      <td>1</td>\n",
       "      <td>14.9</td>\n",
       "      <td>1.0</td>\n",
       "      <td>0.5</td>\n",
       "      <td>15.0</td>\n",
       "      <td>0.0</td>\n",
       "      <td>1.0</td>\n",
       "      <td>34.9</td>\n",
       "      <td>2.5</td>\n",
       "      <td>0.0</td>\n",
       "    </tr>\n",
       "  </tbody>\n",
       "</table>\n",
       "</div>"
      ],
      "text/plain": [
       "   VendorID tpep_pickup_datetime tpep_dropoff_datetime  passenger_count  \\\n",
       "0         2  2023-01-01 00:32:10   2023-01-01 00:40:36              1.0   \n",
       "1         2  2023-01-01 00:55:08   2023-01-01 01:01:27              1.0   \n",
       "2         2  2023-01-01 00:25:04   2023-01-01 00:37:49              1.0   \n",
       "\n",
       "   trip_distance  RatecodeID store_and_fwd_flag  PULocationID  DOLocationID  \\\n",
       "0           0.97         1.0                  N           161           141   \n",
       "1           1.10         1.0                  N            43           237   \n",
       "2           2.51         1.0                  N            48           238   \n",
       "\n",
       "   payment_type  fare_amount  extra  mta_tax  tip_amount  tolls_amount  \\\n",
       "0             2          9.3    1.0      0.5         0.0           0.0   \n",
       "1             1          7.9    1.0      0.5         4.0           0.0   \n",
       "2             1         14.9    1.0      0.5        15.0           0.0   \n",
       "\n",
       "   improvement_surcharge  total_amount  congestion_surcharge  airport_fee  \n",
       "0                    1.0          14.3                   2.5          0.0  \n",
       "1                    1.0          16.9                   2.5          0.0  \n",
       "2                    1.0          34.9                   2.5          0.0  "
      ]
     },
     "execution_count": 5,
     "metadata": {},
     "output_type": "execute_result"
    }
   ],
   "source": [
    "jan.head(3)"
   ]
  },
  {
   "cell_type": "markdown",
   "id": "9a8f26ba",
   "metadata": {},
   "source": [
    "## Q2. Computing duration\n",
    "\n",
    "Now let's compute the `duration` variable. It should contain the duration of a ride in minutes. \n",
    "\n",
    "What's the standard deviation of the trips duration in January?\n",
    "\n",
    "* 32.59\n",
    "* 42.59 <-- \n",
    "* 52.59\n",
    "* 62.59"
   ]
  },
  {
   "cell_type": "code",
   "execution_count": 6,
   "id": "59be868f",
   "metadata": {},
   "outputs": [],
   "source": [
    "# compute duration, convert to minutes\n",
    "jan['duration'] = (jan['tpep_dropoff_datetime'] - jan['tpep_pickup_datetime']).dt.total_seconds() / 60"
   ]
  },
  {
   "cell_type": "code",
   "execution_count": 7,
   "id": "7e2df898",
   "metadata": {},
   "outputs": [
    {
     "data": {
      "text/plain": [
       "42.594351241920904"
      ]
     },
     "execution_count": 7,
     "metadata": {},
     "output_type": "execute_result"
    }
   ],
   "source": [
    "# standard deviation of the trips duration in Jan\n",
    "jan['duration'].std()"
   ]
  },
  {
   "cell_type": "markdown",
   "id": "4cb080c7",
   "metadata": {},
   "source": [
    "## Q3. Dropping outliers\n",
    "\n",
    "Next, we need to check the distribution of the `duration` variable. There are some outliers. Let's remove them and keep only the records where the duration was between 1 and 60 minutes (inclusive).\n",
    "\n",
    "What fraction of the records left after you dropped the outliers?\n",
    "\n",
    "* 90%\n",
    "* 92%\n",
    "* 95%\n",
    "* 98% <--"
   ]
  },
  {
   "cell_type": "code",
   "execution_count": 8,
   "id": "a7c4b812",
   "metadata": {},
   "outputs": [
    {
     "name": "stdout",
     "output_type": "stream",
     "text": [
      "original size:  3066766\n",
      "after dropping outliers:  3009173\n"
     ]
    }
   ],
   "source": [
    "print('original size: ', jan.shape[0])\n",
    "# remove rows with duration outside 1 and 60 minutes\n",
    "jan = jan[(jan['duration'] >= 1) & (jan['duration'] <= 60)]\n",
    "\n",
    "# get the fraction of records left after dropping\n",
    "print('after dropping outliers: ', jan.shape[0])"
   ]
  },
  {
   "cell_type": "markdown",
   "id": "e953454a",
   "metadata": {},
   "source": [
    "\n",
    "## Q4. One-hot encoding\n",
    "\n",
    "Let's apply one-hot encoding to the pickup and dropoff location IDs. We'll use only these two features for our model. \n",
    "\n",
    "* Turn the dataframe into a list of dictionaries (remember to re-cast the ids to strings - otherwise it will \n",
    "  label encode them)\n",
    "* Fit a dictionary vectorizer \n",
    "* Get a feature matrix from it\n",
    "\n",
    "What's the dimensionality of this matrix (number of columns)?\n",
    "\n",
    "* 2\n",
    "* 155\n",
    "* 345\n",
    "* 515 <-->\n",
    "* 715"
   ]
  },
  {
   "cell_type": "code",
   "execution_count": null,
   "id": "555dc8fa",
   "metadata": {},
   "outputs": [],
   "source": [
    "def read_dataframe(filename):\n",
    "    if filename.endswith('.parquet'):\n",
    "        df = pd.read_parquet(filename)\n",
    "\n",
    "    # compute duration, convert to minutes\n",
    "    df['duration'] = (df['tpep_dropoff_datetime'] - df['tpep_pickup_datetime']).dt.total_seconds() / 60\n",
    "\n",
    "    # remove outliers\n",
    "    df = df[(df.duration >= 1) & (df.duration <= 60)]\n",
    "\n",
    "    # convert pickup/dropoff location IDs to strings so DictVectorizer treats them as categorical\n",
    "    categorical = ['PULocationID', 'DOLocationID']\n",
    "    df[categorical] = df[categorical].astype(str)\n",
    "    \n",
    "    return df"
   ]
  },
  {
   "cell_type": "code",
   "execution_count": null,
   "id": "9b073f21",
   "metadata": {},
   "outputs": [],
   "source": [
    "# load training and validation data\n",
    "df_train = read_dataframe('https://d37ci6vzurychx.cloudfront.net/trip-data/yellow_tripdata_2023-01.parquet') # jan data\n",
    "df_val = read_dataframe('https://d37ci6vzurychx.cloudfront.net/trip-data/yellow_tripdata_2023-02.parquet') # feb data"
   ]
  },
  {
   "cell_type": "code",
   "execution_count": null,
   "id": "6c5e63bb",
   "metadata": {},
   "outputs": [
    {
     "name": "stdout",
     "output_type": "stream",
     "text": [
      "feature matrix shape: (3009173, 515)\n"
     ]
    }
   ],
   "source": [
    "# set up feature columns\n",
    "categorical = ['PULocationID', 'DOLocationID']\n",
    "numerical = ['trip_distance']\n",
    "\n",
    "# initialize the DictVectorizer to one-hot encode categorical features from a list of dictionaries\n",
    "dv = DictVectorizer()\n",
    "\n",
    "# convert the categorical features into a list of dictionaries\n",
    "train_dicts = df_train[categorical].to_dict(orient='records')\n",
    "# fit the vectorizer to the training data (learn the unique categories),\n",
    "# and transform the dict into a sparse feature matrix (rows = trips, columns = one hot encoded categories))\n",
    "X_train = dv.fit_transform(train_dicts)\n",
    "\n",
    "# print dimension of the feature matrix\n",
    "print(f'feature matrix shape: {X_train.shape}')"
   ]
  },
  {
   "cell_type": "markdown",
   "id": "3d27ffdc",
   "metadata": {},
   "source": [
    "Notes on `dv.fit_transform(train_dicts)` and `dv.transform(val_dicts)`:\n",
    "\n",
    "- fit_transform: does 2 things at once\n",
    "    - fit:\n",
    "        - learn the vocabulary of features, i.e. all values of PULocationID and DOLocationID\n",
    "        - builds the mapping: {\n",
    "  'PULocationID=132': 0,\n",
    "  'DOLocationID=237': 1,\n",
    "  ...}\n",
    "    - transform:\n",
    "        - converts each dictionary to a sparse one-hot encoded vector using the learned mapping\n",
    "- transform:\n",
    "    - only transforms using the learned mapping, does not learn new categories\n",
    "    - If a PULocationID or DOLocationID in the validation data was seen in training, it will be properly one-hot encoded.\n",
    "    - If it's unseen, it will be ignored (encoded as all zeros for that feature).\n"
   ]
  },
  {
   "cell_type": "code",
   "execution_count": null,
   "id": "58b98ba3",
   "metadata": {},
   "outputs": [],
   "source": [
    "# do the same converting to dict and then one hot encoding for validation data\n",
    "val_dicts = df_val[categorical].to_dict(orient='records')\n",
    "# use the already fitted DictVectorizer to transform ths val data to the same feature space\n",
    "X_val = dv.transform(val_dicts)"
   ]
  },
  {
   "cell_type": "code",
   "execution_count": null,
   "id": "013210a0",
   "metadata": {},
   "outputs": [],
   "source": [
    "# prepare target variable\n",
    "target = 'duration'\n",
    "# extract target variable as numpy array\n",
    "y_train = df_train[target].values\n",
    "y_val = df_val[target].values"
   ]
  },
  {
   "cell_type": "code",
   "execution_count": null,
   "id": "9116b704",
   "metadata": {},
   "outputs": [
    {
     "data": {
      "text/plain": [
       "7.649261927686161"
      ]
     },
     "execution_count": 33,
     "metadata": {},
     "output_type": "execute_result"
    }
   ],
   "source": [
    "# train the linear regression model\n",
    "lr = LinearRegression()\n",
    "lr.fit(X_train, y_train)\n",
    "\n",
    "# predict on the training data\n",
    "y_pred = lr.predict(X_train)\n",
    "\n",
    "# compute RMSE\n",
    "np.sqrt(mean_squared_error(y_train, y_pred))"
   ]
  },
  {
   "cell_type": "code",
   "execution_count": null,
   "id": "1e775384",
   "metadata": {},
   "outputs": [
    {
     "data": {
      "text/plain": [
       "7.811817957524739"
      ]
     },
     "execution_count": 34,
     "metadata": {},
     "output_type": "execute_result"
    }
   ],
   "source": [
    "# repeats model training and prediction on the validation set\n",
    "lr = LinearRegression()\n",
    "lr.fit(X_train, y_train)\n",
    "\n",
    "y_pred = lr.predict(X_val)\n",
    "\n",
    "# compute RMSE\n",
    "np.sqrt(mean_squared_error(y_val, y_pred))"
   ]
  },
  {
   "cell_type": "markdown",
   "id": "3859a7ea",
   "metadata": {},
   "source": [
    "\n",
    "## Q5. Training a model\n",
    "\n",
    "Now let's use the feature matrix from the previous step to train a model. \n",
    "\n",
    "* Train a plain linear regression model with default parameters, where duration is the response variable\n",
    "* Calculate the RMSE of the model on the training data\n",
    "\n",
    "What's the RMSE on train?\n",
    "\n",
    "* 3.64\n",
    "* 7.64 <>\n",
    "* 11.64\n",
    "* 16.64\n"
   ]
  },
  {
   "cell_type": "markdown",
   "id": "801cb6f8",
   "metadata": {},
   "source": [
    "## Q6. Evaluating the model\n",
    "\n",
    "Now let's apply this model to the validation dataset (February 2023). \n",
    "\n",
    "What's the RMSE on validation?\n",
    "\n",
    "* 3.81\n",
    "* 7.81 <>\n",
    "* 11.81\n",
    "* 16.81\n"
   ]
  },
  {
   "cell_type": "markdown",
   "id": "169a128c",
   "metadata": {},
   "source": [
    "\n",
    "## Submit the results\n",
    "\n",
    "* Submit your results here: https://courses.datatalks.club/mlops-zoomcamp-2025/homework/hw1\n",
    "* If your answer doesn't match options exactly, select the closest one"
   ]
  }
 ],
 "metadata": {
  "kernelspec": {
   "display_name": "base",
   "language": "python",
   "name": "python3"
  },
  "language_info": {
   "codemirror_mode": {
    "name": "ipython",
    "version": 3
   },
   "file_extension": ".py",
   "mimetype": "text/x-python",
   "name": "python",
   "nbconvert_exporter": "python",
   "pygments_lexer": "ipython3",
   "version": "3.9.12"
  }
 },
 "nbformat": 4,
 "nbformat_minor": 5
}
